{
 "cells": [
  {
   "cell_type": "code",
   "execution_count": 1,
   "id": "60d76ba8",
   "metadata": {},
   "outputs": [],
   "source": [
    "import json\n",
    "import torchaudio\n",
    "import torch\n",
    "from IPython.display import Audio\n",
    "\n",
    "def mask_audio_by_threshold(audio, sr, segments, threshold, take_music=True):\n",
    "    output = torch.zeros_like(audio)\n",
    "    for seg in segments:\n",
    "        start = int(float(seg[\"onset\"]) * sr)\n",
    "        end = int(float(seg[\"offset\"]) * sr)\n",
    "        if (seg[\"music_logit\"] > threshold) == take_music:\n",
    "            output[:, start:end] = audio[:, start:end]\n",
    "    return output\n",
    "\n",
    "def play_segments(ytid, threshold=0.5, take_music=True):\n",
    "    AUDIO_PATH = f'{ytid}_audio.mp3'\n",
    "    JSON_PATH = f'{ytid}_audio.json'\n",
    "\n",
    "    # Load audio\n",
    "    audio, sr = torchaudio.load(AUDIO_PATH)\n",
    "\n",
    "    # Load JSON\n",
    "    with open(JSON_PATH, \"r\") as f:\n",
    "        segments = json.load(f)\n",
    "\n",
    "    masked_audio = mask_audio_by_threshold(audio, sr, segments, threshold, take_music=take_music)\n",
    "    # Convert to numpy for IPython Audio\n",
    "    audio_np = masked_audio.numpy().squeeze()\n",
    "    display(Audio(audio_np, rate=sr))"
   ]
  },
  {
   "cell_type": "code",
   "execution_count": null,
   "id": "78169a7d",
   "metadata": {},
   "outputs": [],
   "source": [
    "# Example usage in a notebook cell:\n",
    "# 런닝맨 베트남(134회) #3\n",
    "ytid = \"--2JMByuHpM\"\n",
    "threshold = 0.7\n",
    "play_segments(ytid, threshold=threshold, take_music=True)  # Play segments ABOVE threshold\n",
    "play_segments(ytid, threshold=threshold, take_music=False) # Play segments BELOW threshold"
   ]
  },
  {
   "cell_type": "code",
   "execution_count": null,
   "id": "569b1e87",
   "metadata": {},
   "outputs": [],
   "source": [
    "# Example usage in a notebook cell:\n",
    "# 기네스를 마셔보는 한국인들의 반응?! // Koreans React to Drinking Guinness!!\n",
    "ytid = \"NzyfO7qT6bI\"\n",
    "threshold = 0.7\n",
    "play_segments(ytid, threshold=threshold, take_music=True)  # Play segments ABOVE threshold\n",
    "play_segments(ytid, threshold=threshold, take_music=False) # Play segments BELOW threshold"
   ]
  },
  {
   "cell_type": "code",
   "execution_count": null,
   "id": "2ec95719",
   "metadata": {},
   "outputs": [],
   "source": []
  }
 ],
 "metadata": {
  "kernelspec": {
   "display_name": "venv",
   "language": "python",
   "name": "python3"
  },
  "language_info": {
   "codemirror_mode": {
    "name": "ipython",
    "version": 3
   },
   "file_extension": ".py",
   "mimetype": "text/x-python",
   "name": "python",
   "nbconvert_exporter": "python",
   "pygments_lexer": "ipython3",
   "version": "3.10.12"
  }
 },
 "nbformat": 4,
 "nbformat_minor": 5
}
